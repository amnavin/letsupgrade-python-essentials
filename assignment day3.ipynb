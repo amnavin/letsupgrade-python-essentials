{
 "cells": [
  {
   "cell_type": "markdown",
   "metadata": {},
   "source": [
    "# Question 1\n",
    "You all are Pilots, you want to land a plane safely, so altitude required for landing a plane is\n",
    "1000ft, it it is less than tell pilot to land the plane, or it is more than that but less than 5000ft ask\n",
    "the pilot to “come down to 1000ft”, else if it more than 5000ft ask the pilot to “go around and try\n",
    "later”\n"
   ]
  },
  {
   "cell_type": "code",
   "execution_count": 3,
   "metadata": {},
   "outputs": [
    {
     "name": "stdout",
     "output_type": "stream",
     "text": [
      "Enter a number5006\n",
      "Turn around\n"
     ]
    }
   ],
   "source": [
    "num = input(\"Enter a number\")\n",
    "num = int(num)\n",
    "x = 5000\n",
    "if x<1000:\n",
    "\tprint(\"safe to land\")\n",
    "elif x>1000 and x<5000:\n",
    "\tprint(\"Bring down to 1000\")\n",
    "elif x>5000:\n",
    "\tprint(\"Turn around\")\n",
    "else:\n",
    "\tprint(\"Turn around\")"
   ]
  },
  {
   "cell_type": "markdown",
   "metadata": {},
   "source": [
    "# Question 2\n",
    "Using for loop please print all the prime numbers between 1- 200 using FOR LOOP AND RANGE\n",
    "function.\n"
   ]
  },
  {
   "cell_type": "code",
   "execution_count": 4,
   "metadata": {},
   "outputs": [
    {
     "name": "stdout",
     "output_type": "stream",
     "text": [
      " 2   3   5   7   11   13   17   19   23   29   31   37   41   43   47   53   59   61   67   71   73   79   83   89   97   101   103   107   109   113   127   131   137   139   149   151   157   163   167   173   179   181   191   193   197   199  "
     ]
    }
   ],
   "source": [
    "for Number in range (1, 201):\n",
    "    count = 0\n",
    "    for i in range(2, (Number//2 + 1)):\n",
    "        if(Number % i == 0):\n",
    "            count = count + 1\n",
    "            break\n",
    "\n",
    "    if (count == 0 and Number != 1):\n",
    "        print(\" %d\" %Number, end = '  ')"
   ]
  },
  {
   "cell_type": "code",
   "execution_count": null,
   "metadata": {},
   "outputs": [],
   "source": []
  }
 ],
 "metadata": {
  "kernelspec": {
   "display_name": "Python 3",
   "language": "python",
   "name": "python3"
  },
  "language_info": {
   "codemirror_mode": {
    "name": "ipython",
    "version": 3
   },
   "file_extension": ".py",
   "mimetype": "text/x-python",
   "name": "python",
   "nbconvert_exporter": "python",
   "pygments_lexer": "ipython3",
   "version": "3.7.3"
  }
 },
 "nbformat": 4,
 "nbformat_minor": 2
}
